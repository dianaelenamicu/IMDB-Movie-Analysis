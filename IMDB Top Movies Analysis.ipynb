{
 "cells": [
  {
   "cell_type": "code",
   "execution_count": 1,
   "id": "14c5da75",
   "metadata": {},
   "outputs": [],
   "source": [
    "import pandas as pd\n",
    "import numpy as np\n",
    "import seaborn as sns\n",
    "import matplotlib.pyplot as plt"
   ]
  },
  {
   "cell_type": "code",
   "execution_count": 2,
   "id": "7fec9f26",
   "metadata": {},
   "outputs": [
    {
     "name": "stdout",
     "output_type": "stream",
     "text": [
      "         id    imdb_id  popularity     budget    revenue  \\\n",
      "0    131634  tt1951266    5.476958  160000000  650523427   \n",
      "1    158852  tt1964418    5.462138  190000000  209035668   \n",
      "2    307081  tt1798684    5.337064   30000000   91709827   \n",
      "3    254128  tt2126355    4.907832  110000000  470490832   \n",
      "4    216015  tt2322441    4.710402   40000000  569651467   \n",
      "..      ...        ...         ...        ...        ...   \n",
      "105   10823  tt0087050    0.361782     800000   14000000   \n",
      "106   15927  tt0087892    0.329484    8000000   27187653   \n",
      "107   14746  tt0088194    0.297597   14500000    8089290   \n",
      "108   24128  tt0088178    0.283191    1200000    4978922   \n",
      "109   11221  tt0086955    0.174241   18000000   19265302   \n",
      "\n",
      "                            original_title  \\\n",
      "0    The Hunger Games: Mockingjay - Part 2   \n",
      "1                             Tomorrowland   \n",
      "2                                 Southpaw   \n",
      "3                              San Andreas   \n",
      "4                     Fifty Shades of Grey   \n",
      "..                                     ...   \n",
      "105                   Children of the Corn   \n",
      "106                     A Passage to India   \n",
      "107                        Streets of Fire   \n",
      "108                      Stop Making Sense   \n",
      "109                           Best Defense   \n",
      "\n",
      "                                                  cast  \\\n",
      "0    Jennifer Lawrence|Josh Hutcherson|Liam Hemswor...   \n",
      "1    Britt Robertson|George Clooney|Raffey Cassidy|...   \n",
      "2    Jake Gyllenhaal|Rachel McAdams|Forest Whitaker...   \n",
      "3    Dwayne Johnson|Alexandra Daddario|Carla Gugino...   \n",
      "4    Dakota Johnson|Jamie Dornan|Jennifer Ehle|Eloi...   \n",
      "..                                                 ...   \n",
      "105  Peter Horton|Linda Hamilton|R. G. Armstrong|Jo...   \n",
      "106  Judy Davis|Alec Guinness|Peggy Ashcroft|James ...   \n",
      "107  Michael ParÃƒÂ©|Diane Lane|Rick Moranis|Amy Ma...   \n",
      "108  David Byrne|Tina Weymouth|Chris Frantz|Jerry H...   \n",
      "109  Dudley Moore|Eddie Murphy|Kate Capshaw|George ...   \n",
      "\n",
      "                                            homepage            director  \\\n",
      "0                   http://www.thehungergames.movie/    Francis Lawrence   \n",
      "1              http://movies.disney.com/tomorrowland           Brad Bird   \n",
      "2                                                NaN       Antoine Fuqua   \n",
      "3                    http://www.sanandreasmovie.com/         Brad Peyton   \n",
      "4    https://www.facebook.com/fiftyshadesofgreymovie  Sam Taylor-Johnson   \n",
      "..                                               ...                 ...   \n",
      "105                                              NaN       Fritz Kiersch   \n",
      "106                                              NaN          David Lean   \n",
      "107                                              NaN         Walter Hill   \n",
      "108                                              NaN      Jonathan Demme   \n",
      "109                                              NaN       Willard Huyck   \n",
      "\n",
      "                                               tagline  ...  \\\n",
      "0                          The fire will burn forever.  ...   \n",
      "1         Imagine a world where nothing is impossible.  ...   \n",
      "2                                     Believe in Hope.  ...   \n",
      "3    A rescue pilot survived an earthquake, this is...  ...   \n",
      "4                                     Are you curious?  ...   \n",
      "..                                                 ...  ...   \n",
      "105  In their world adults are not allowed... to live.  ...   \n",
      "106  David Lean, the Director of \"Doctor Zhivago\", ...  ...   \n",
      "107              Tonight is what it means to be young.  ...   \n",
      "108  Why stop making sense? Why a movie? Why a big ...  ...   \n",
      "109           Unfortunately, they're both on our side.  ...   \n",
      "\n",
      "                                              overview runtime  \\\n",
      "0    With the nation of Panem in a full scale war, ...     136   \n",
      "1    Bound by a shared destiny, a bright, optimisti...     130   \n",
      "2    Billy \"The Great\" Hope, the reigning junior mi...     123   \n",
      "3    In the aftermath of a massive earthquake in Ca...     114   \n",
      "4    When college senior Anastasia Steele steps in ...     125   \n",
      "..                                                 ...     ...   \n",
      "105  A boy preacher named Isaac goes to a town in N...      93   \n",
      "106  The film is set during the period of growing i...     163   \n",
      "107  Raven Shaddock and his gang of merciless biker...      93   \n",
      "108  David Byrne walks onto the stage and does a so...      88   \n",
      "109  Wylie is a lazy engineer. Landry is a Sergeant...      94   \n",
      "\n",
      "                                              genres  \\\n",
      "0                      War|Adventure|Science Fiction   \n",
      "1    Action|Family|Science Fiction|Adventure|Mystery   \n",
      "2                                       Action|Drama   \n",
      "3                              Action|Drama|Thriller   \n",
      "4                                      Drama|Romance   \n",
      "..                                               ...   \n",
      "105                    Drama|Fantasy|Horror|Thriller   \n",
      "106                          Drama|Adventure|History   \n",
      "107                            Action|Thriller|Music   \n",
      "108                                Documentary|Music   \n",
      "109                                    Action|Comedy   \n",
      "\n",
      "                                  production_companies         release_date  \\\n",
      "0    Studio Babelsberg|StudioCanal|Lionsgate|Walt D...  2015-11-18 00:00:00   \n",
      "1                    Walt Disney Pictures|Babieka|A113  2015-05-19 00:00:00   \n",
      "2              Escape Artists|Riche-Ludwig Productions  2015-06-15 00:00:00   \n",
      "3    New Line Cinema|Village Roadshow Pictures|Warn...  2015-05-27 00:00:00   \n",
      "4    Focus Features|Trigger Street Productions|Mich...  2015-02-11 00:00:00   \n",
      "..                                                 ...                  ...   \n",
      "105  Hal Roach Studios|Cinema Group|Planet Producti...  1984-09-03 00:00:00   \n",
      "106  Columbia Pictures|EMI Films Ltd.|Thorn EMI Scr...             12/14/84   \n",
      "107                                 Universal Pictures  1984-01-06 00:00:00   \n",
      "108               Talking Heads|Arnold Stiefel Company             11/16/84   \n",
      "109           Paramount Pictures|Cinema Group Ventures              7/20/84   \n",
      "\n",
      "    vote_count  vote_average  release_year    budget_adj   revenue_adj  \n",
      "0         2380           6.5          2015  1.471999e+08  5.984813e+08  \n",
      "1         1899           6.2          2015  1.747999e+08  1.923127e+08  \n",
      "2         1386           7.3          2015  2.759999e+07  8.437300e+07  \n",
      "3         2060           6.1          2015  1.012000e+08  4.328514e+08  \n",
      "4         1865           5.3          2015  3.679998e+07  5.240791e+08  \n",
      "..         ...           ...           ...           ...           ...  \n",
      "105        106           5.6          1984  1.679234e+06  2.938659e+07  \n",
      "106         23           6.7          1984  1.679234e+07  5.706803e+07  \n",
      "107         48           6.7          1984  3.043611e+07  1.697976e+07  \n",
      "108         23           8.4          1984  2.518850e+06  1.045097e+07  \n",
      "109         10           3.8          1984  3.778276e+07  4.043868e+07  \n",
      "\n",
      "[110 rows x 21 columns]\n"
     ]
    }
   ],
   "source": [
    "df = pd.read_excel (\"D:\\IMDB Movie Database.xlsx\")\n",
    "print (df)"
   ]
  },
  {
   "cell_type": "code",
   "execution_count": 3,
   "id": "7c1e4373",
   "metadata": {},
   "outputs": [
    {
     "data": {
      "text/plain": [
       "(110, 21)"
      ]
     },
     "execution_count": 3,
     "metadata": {},
     "output_type": "execute_result"
    }
   ],
   "source": [
    "df.shape"
   ]
  },
  {
   "cell_type": "code",
   "execution_count": 4,
   "id": "26be6858",
   "metadata": {},
   "outputs": [
    {
     "name": "stdout",
     "output_type": "stream",
     "text": [
      "<class 'pandas.core.frame.DataFrame'>\n",
      "RangeIndex: 110 entries, 0 to 109\n",
      "Data columns (total 21 columns):\n",
      " #   Column                Non-Null Count  Dtype  \n",
      "---  ------                --------------  -----  \n",
      " 0   id                    110 non-null    int64  \n",
      " 1   imdb_id               110 non-null    object \n",
      " 2   popularity            110 non-null    float64\n",
      " 3   budget                110 non-null    int64  \n",
      " 4   revenue               110 non-null    int64  \n",
      " 5   original_title        110 non-null    object \n",
      " 6   cast                  110 non-null    object \n",
      " 7   homepage              62 non-null     object \n",
      " 8   director              110 non-null    object \n",
      " 9   tagline               108 non-null    object \n",
      " 10  keywords              110 non-null    object \n",
      " 11  overview              110 non-null    object \n",
      " 12  runtime               110 non-null    int64  \n",
      " 13  genres                110 non-null    object \n",
      " 14  production_companies  110 non-null    object \n",
      " 15  release_date          110 non-null    object \n",
      " 16  vote_count            110 non-null    int64  \n",
      " 17  vote_average          110 non-null    float64\n",
      " 18  release_year          110 non-null    int64  \n",
      " 19  budget_adj            110 non-null    float64\n",
      " 20  revenue_adj           110 non-null    float64\n",
      "dtypes: float64(4), int64(6), object(11)\n",
      "memory usage: 18.2+ KB\n"
     ]
    }
   ],
   "source": [
    "df.info()"
   ]
  },
  {
   "cell_type": "code",
   "execution_count": 5,
   "id": "246ebc31",
   "metadata": {},
   "outputs": [
    {
     "data": {
      "text/plain": [
       "0"
      ]
     },
     "execution_count": 5,
     "metadata": {},
     "output_type": "execute_result"
    }
   ],
   "source": [
    "df.duplicated().sum()"
   ]
  },
  {
   "cell_type": "code",
   "execution_count": 6,
   "id": "8a7e1274",
   "metadata": {},
   "outputs": [
    {
     "data": {
      "text/plain": [
       "0"
      ]
     },
     "execution_count": 6,
     "metadata": {},
     "output_type": "execute_result"
    }
   ],
   "source": [
    "df.dropna(inplace=True)\n",
    "df.isnull().sum().sum()"
   ]
  },
  {
   "cell_type": "code",
   "execution_count": 7,
   "id": "9f28a642",
   "metadata": {},
   "outputs": [
    {
     "data": {
      "text/html": [
       "<div>\n",
       "<style scoped>\n",
       "    .dataframe tbody tr th:only-of-type {\n",
       "        vertical-align: middle;\n",
       "    }\n",
       "\n",
       "    .dataframe tbody tr th {\n",
       "        vertical-align: top;\n",
       "    }\n",
       "\n",
       "    .dataframe thead th {\n",
       "        text-align: right;\n",
       "    }\n",
       "</style>\n",
       "<table border=\"1\" class=\"dataframe\">\n",
       "  <thead>\n",
       "    <tr style=\"text-align: right;\">\n",
       "      <th></th>\n",
       "      <th>id</th>\n",
       "      <th>popularity</th>\n",
       "      <th>budget</th>\n",
       "      <th>revenue</th>\n",
       "      <th>runtime</th>\n",
       "      <th>vote_count</th>\n",
       "      <th>vote_average</th>\n",
       "      <th>release_year</th>\n",
       "      <th>budget_adj</th>\n",
       "      <th>revenue_adj</th>\n",
       "    </tr>\n",
       "  </thead>\n",
       "  <tbody>\n",
       "    <tr>\n",
       "      <th>count</th>\n",
       "      <td>61.000000</td>\n",
       "      <td>61.000000</td>\n",
       "      <td>6.100000e+01</td>\n",
       "      <td>6.100000e+01</td>\n",
       "      <td>61.000000</td>\n",
       "      <td>61.000000</td>\n",
       "      <td>61.000000</td>\n",
       "      <td>61.000000</td>\n",
       "      <td>6.100000e+01</td>\n",
       "      <td>6.100000e+01</td>\n",
       "    </tr>\n",
       "    <tr>\n",
       "      <th>mean</th>\n",
       "      <td>50884.344262</td>\n",
       "      <td>4.296302</td>\n",
       "      <td>8.699590e+07</td>\n",
       "      <td>4.099920e+08</td>\n",
       "      <td>118.426230</td>\n",
       "      <td>2345.557377</td>\n",
       "      <td>6.755738</td>\n",
       "      <td>2007.163934</td>\n",
       "      <td>9.162203e+07</td>\n",
       "      <td>4.475815e+08</td>\n",
       "    </tr>\n",
       "    <tr>\n",
       "      <th>std</th>\n",
       "      <td>74765.672283</td>\n",
       "      <td>2.817659</td>\n",
       "      <td>6.083034e+07</td>\n",
       "      <td>2.995112e+08</td>\n",
       "      <td>23.356269</td>\n",
       "      <td>1490.627145</td>\n",
       "      <td>0.768445</td>\n",
       "      <td>6.608531</td>\n",
       "      <td>5.998389e+07</td>\n",
       "      <td>3.362342e+08</td>\n",
       "    </tr>\n",
       "    <tr>\n",
       "      <th>min</th>\n",
       "      <td>12.000000</td>\n",
       "      <td>1.212565</td>\n",
       "      <td>0.000000e+00</td>\n",
       "      <td>0.000000e+00</td>\n",
       "      <td>78.000000</td>\n",
       "      <td>74.000000</td>\n",
       "      <td>4.700000</td>\n",
       "      <td>1977.000000</td>\n",
       "      <td>0.000000e+00</td>\n",
       "      <td>0.000000e+00</td>\n",
       "    </tr>\n",
       "    <tr>\n",
       "      <th>25%</th>\n",
       "      <td>603.000000</td>\n",
       "      <td>2.623143</td>\n",
       "      <td>4.000000e+07</td>\n",
       "      <td>1.704329e+08</td>\n",
       "      <td>101.000000</td>\n",
       "      <td>1265.000000</td>\n",
       "      <td>6.300000</td>\n",
       "      <td>2002.000000</td>\n",
       "      <td>4.000463e+07</td>\n",
       "      <td>1.712143e+08</td>\n",
       "    </tr>\n",
       "    <tr>\n",
       "      <th>50%</th>\n",
       "      <td>13179.000000</td>\n",
       "      <td>3.326646</td>\n",
       "      <td>7.500000e+07</td>\n",
       "      <td>3.191310e+08</td>\n",
       "      <td>114.000000</td>\n",
       "      <td>1920.000000</td>\n",
       "      <td>6.700000</td>\n",
       "      <td>2009.000000</td>\n",
       "      <td>8.247033e+07</td>\n",
       "      <td>3.725564e+08</td>\n",
       "    </tr>\n",
       "    <tr>\n",
       "      <th>75%</th>\n",
       "      <td>72105.000000</td>\n",
       "      <td>5.462138</td>\n",
       "      <td>1.250000e+08</td>\n",
       "      <td>6.550112e+08</td>\n",
       "      <td>130.000000</td>\n",
       "      <td>3220.000000</td>\n",
       "      <td>7.300000</td>\n",
       "      <td>2012.000000</td>\n",
       "      <td>1.454097e+08</td>\n",
       "      <td>6.671677e+08</td>\n",
       "    </tr>\n",
       "    <tr>\n",
       "      <th>max</th>\n",
       "      <td>318846.000000</td>\n",
       "      <td>12.971027</td>\n",
       "      <td>2.500000e+08</td>\n",
       "      <td>9.764756e+08</td>\n",
       "      <td>189.000000</td>\n",
       "      <td>6351.000000</td>\n",
       "      <td>8.100000</td>\n",
       "      <td>2015.000000</td>\n",
       "      <td>2.541001e+08</td>\n",
       "      <td>1.209981e+09</td>\n",
       "    </tr>\n",
       "  </tbody>\n",
       "</table>\n",
       "</div>"
      ],
      "text/plain": [
       "                  id  popularity        budget       revenue     runtime  \\\n",
       "count      61.000000   61.000000  6.100000e+01  6.100000e+01   61.000000   \n",
       "mean    50884.344262    4.296302  8.699590e+07  4.099920e+08  118.426230   \n",
       "std     74765.672283    2.817659  6.083034e+07  2.995112e+08   23.356269   \n",
       "min        12.000000    1.212565  0.000000e+00  0.000000e+00   78.000000   \n",
       "25%       603.000000    2.623143  4.000000e+07  1.704329e+08  101.000000   \n",
       "50%     13179.000000    3.326646  7.500000e+07  3.191310e+08  114.000000   \n",
       "75%     72105.000000    5.462138  1.250000e+08  6.550112e+08  130.000000   \n",
       "max    318846.000000   12.971027  2.500000e+08  9.764756e+08  189.000000   \n",
       "\n",
       "        vote_count  vote_average  release_year    budget_adj   revenue_adj  \n",
       "count    61.000000     61.000000     61.000000  6.100000e+01  6.100000e+01  \n",
       "mean   2345.557377      6.755738   2007.163934  9.162203e+07  4.475815e+08  \n",
       "std    1490.627145      0.768445      6.608531  5.998389e+07  3.362342e+08  \n",
       "min      74.000000      4.700000   1977.000000  0.000000e+00  0.000000e+00  \n",
       "25%    1265.000000      6.300000   2002.000000  4.000463e+07  1.712143e+08  \n",
       "50%    1920.000000      6.700000   2009.000000  8.247033e+07  3.725564e+08  \n",
       "75%    3220.000000      7.300000   2012.000000  1.454097e+08  6.671677e+08  \n",
       "max    6351.000000      8.100000   2015.000000  2.541001e+08  1.209981e+09  "
      ]
     },
     "execution_count": 7,
     "metadata": {},
     "output_type": "execute_result"
    }
   ],
   "source": [
    "df.describe()"
   ]
  },
  {
   "cell_type": "code",
   "execution_count": 8,
   "id": "5ee87a45",
   "metadata": {},
   "outputs": [
    {
     "data": {
      "text/html": [
       "<div>\n",
       "<style scoped>\n",
       "    .dataframe tbody tr th:only-of-type {\n",
       "        vertical-align: middle;\n",
       "    }\n",
       "\n",
       "    .dataframe tbody tr th {\n",
       "        vertical-align: top;\n",
       "    }\n",
       "\n",
       "    .dataframe thead th {\n",
       "        text-align: right;\n",
       "    }\n",
       "</style>\n",
       "<table border=\"1\" class=\"dataframe\">\n",
       "  <thead>\n",
       "    <tr style=\"text-align: right;\">\n",
       "      <th></th>\n",
       "      <th>id</th>\n",
       "      <th>popularity</th>\n",
       "      <th>budget</th>\n",
       "      <th>revenue</th>\n",
       "      <th>runtime</th>\n",
       "      <th>vote_count</th>\n",
       "      <th>vote_average</th>\n",
       "      <th>release_year</th>\n",
       "      <th>budget_adj</th>\n",
       "      <th>revenue_adj</th>\n",
       "    </tr>\n",
       "  </thead>\n",
       "  <tbody>\n",
       "    <tr>\n",
       "      <th>count</th>\n",
       "      <td>58.000000</td>\n",
       "      <td>58.000000</td>\n",
       "      <td>5.800000e+01</td>\n",
       "      <td>5.800000e+01</td>\n",
       "      <td>58.000000</td>\n",
       "      <td>58.000000</td>\n",
       "      <td>58.000000</td>\n",
       "      <td>58.000000</td>\n",
       "      <td>5.800000e+01</td>\n",
       "      <td>5.800000e+01</td>\n",
       "    </tr>\n",
       "    <tr>\n",
       "      <th>mean</th>\n",
       "      <td>52149.241379</td>\n",
       "      <td>4.433048</td>\n",
       "      <td>9.032328e+07</td>\n",
       "      <td>4.311985e+08</td>\n",
       "      <td>119.672414</td>\n",
       "      <td>2452.603448</td>\n",
       "      <td>6.789655</td>\n",
       "      <td>2007.051724</td>\n",
       "      <td>9.517811e+07</td>\n",
       "      <td>4.707322e+08</td>\n",
       "    </tr>\n",
       "    <tr>\n",
       "      <th>std</th>\n",
       "      <td>76439.245127</td>\n",
       "      <td>2.822614</td>\n",
       "      <td>6.037896e+07</td>\n",
       "      <td>2.917598e+08</td>\n",
       "      <td>23.047920</td>\n",
       "      <td>1448.957108</td>\n",
       "      <td>0.743791</td>\n",
       "      <td>6.757510</td>\n",
       "      <td>5.920179e+07</td>\n",
       "      <td>3.285036e+08</td>\n",
       "    </tr>\n",
       "    <tr>\n",
       "      <th>min</th>\n",
       "      <td>12.000000</td>\n",
       "      <td>1.212565</td>\n",
       "      <td>2.500000e+05</td>\n",
       "      <td>1.202127e+07</td>\n",
       "      <td>81.000000</td>\n",
       "      <td>227.000000</td>\n",
       "      <td>4.700000</td>\n",
       "      <td>1977.000000</td>\n",
       "      <td>3.396151e+05</td>\n",
       "      <td>1.633042e+07</td>\n",
       "    </tr>\n",
       "    <tr>\n",
       "      <th>25%</th>\n",
       "      <td>589.500000</td>\n",
       "      <td>2.664421</td>\n",
       "      <td>4.050000e+07</td>\n",
       "      <td>1.804428e+08</td>\n",
       "      <td>102.250000</td>\n",
       "      <td>1339.750000</td>\n",
       "      <td>6.300000</td>\n",
       "      <td>2002.000000</td>\n",
       "      <td>4.536870e+07</td>\n",
       "      <td>1.936402e+08</td>\n",
       "    </tr>\n",
       "    <tr>\n",
       "      <th>50%</th>\n",
       "      <td>10887.000000</td>\n",
       "      <td>3.449028</td>\n",
       "      <td>7.950000e+07</td>\n",
       "      <td>3.390912e+08</td>\n",
       "      <td>116.000000</td>\n",
       "      <td>2165.000000</td>\n",
       "      <td>6.700000</td>\n",
       "      <td>2009.000000</td>\n",
       "      <td>8.427860e+07</td>\n",
       "      <td>4.051474e+08</td>\n",
       "    </tr>\n",
       "    <tr>\n",
       "      <th>75%</th>\n",
       "      <td>74861.250000</td>\n",
       "      <td>5.473253</td>\n",
       "      <td>1.287500e+08</td>\n",
       "      <td>6.630220e+08</td>\n",
       "      <td>131.500000</td>\n",
       "      <td>3413.500000</td>\n",
       "      <td>7.300000</td>\n",
       "      <td>2012.000000</td>\n",
       "      <td>1.467524e+08</td>\n",
       "      <td>6.863565e+08</td>\n",
       "    </tr>\n",
       "    <tr>\n",
       "      <th>max</th>\n",
       "      <td>318846.000000</td>\n",
       "      <td>12.971027</td>\n",
       "      <td>2.500000e+08</td>\n",
       "      <td>9.764756e+08</td>\n",
       "      <td>189.000000</td>\n",
       "      <td>6351.000000</td>\n",
       "      <td>8.100000</td>\n",
       "      <td>2015.000000</td>\n",
       "      <td>2.541001e+08</td>\n",
       "      <td>1.209981e+09</td>\n",
       "    </tr>\n",
       "  </tbody>\n",
       "</table>\n",
       "</div>"
      ],
      "text/plain": [
       "                  id  popularity        budget       revenue     runtime  \\\n",
       "count      58.000000   58.000000  5.800000e+01  5.800000e+01   58.000000   \n",
       "mean    52149.241379    4.433048  9.032328e+07  4.311985e+08  119.672414   \n",
       "std     76439.245127    2.822614  6.037896e+07  2.917598e+08   23.047920   \n",
       "min        12.000000    1.212565  2.500000e+05  1.202127e+07   81.000000   \n",
       "25%       589.500000    2.664421  4.050000e+07  1.804428e+08  102.250000   \n",
       "50%     10887.000000    3.449028  7.950000e+07  3.390912e+08  116.000000   \n",
       "75%     74861.250000    5.473253  1.287500e+08  6.630220e+08  131.500000   \n",
       "max    318846.000000   12.971027  2.500000e+08  9.764756e+08  189.000000   \n",
       "\n",
       "        vote_count  vote_average  release_year    budget_adj   revenue_adj  \n",
       "count    58.000000     58.000000     58.000000  5.800000e+01  5.800000e+01  \n",
       "mean   2452.603448      6.789655   2007.051724  9.517811e+07  4.707322e+08  \n",
       "std    1448.957108      0.743791      6.757510  5.920179e+07  3.285036e+08  \n",
       "min     227.000000      4.700000   1977.000000  3.396151e+05  1.633042e+07  \n",
       "25%    1339.750000      6.300000   2002.000000  4.536870e+07  1.936402e+08  \n",
       "50%    2165.000000      6.700000   2009.000000  8.427860e+07  4.051474e+08  \n",
       "75%    3413.500000      7.300000   2012.000000  1.467524e+08  6.863565e+08  \n",
       "max    6351.000000      8.100000   2015.000000  2.541001e+08  1.209981e+09  "
      ]
     },
     "execution_count": 8,
     "metadata": {},
     "output_type": "execute_result"
    }
   ],
   "source": [
    "index_err = df.query('runtime == 0 or budget == 0 or revenue == 0').index\n",
    "df.drop(index_err, axis=0, inplace=True)\n",
    "\n",
    "df.describe()"
   ]
  },
  {
   "cell_type": "code",
   "execution_count": 9,
   "id": "807fad06",
   "metadata": {},
   "outputs": [
    {
     "data": {
      "text/plain": [
       "count    5.800000e+01\n",
       "mean     4.311985e+08\n",
       "std      2.917598e+08\n",
       "min      1.202127e+07\n",
       "25%      1.804428e+08\n",
       "50%      3.390912e+08\n",
       "75%      6.630220e+08\n",
       "max      9.764756e+08\n",
       "Name: revenue, dtype: float64"
      ]
     },
     "execution_count": 9,
     "metadata": {},
     "output_type": "execute_result"
    }
   ],
   "source": [
    "df.revenue.describe()"
   ]
  },
  {
   "cell_type": "code",
   "execution_count": 10,
   "id": "892ad6ad",
   "metadata": {},
   "outputs": [
    {
     "data": {
      "image/png": "[encoded data removed]",
      "text/plain": [
       "<Figure size 432x288 with 1 Axes>"
      ]
     },
     "metadata": {
      "needs_background": "light"
     },
     "output_type": "display_data"
    }
   ],
   "source": [
    "revenues = df.groupby('release_year')['revenue'].mean()\n",
    "\n",
    "plt.plot(revenues)\n",
    "plt.title('The revenue change from year to year')\n",
    "plt.xlabel('Year')\n",
    "plt.ylabel('Revenue')\n",
    "\n",
    "plt.show()"
   ]
  },
  {
   "cell_type": "code",
   "execution_count": 11,
   "id": "6d32784f",
   "metadata": {},
   "outputs": [
    {
     "data": {
      "text/plain": [
       "<AxesSubplot:>"
      ]
     },
     "execution_count": 11,
     "metadata": {},
     "output_type": "execute_result"
    },
    {
     "data": {
      "image/png": "[encoded data removed]",
      "text/plain": [
       "<Figure size 432x288 with 1 Axes>"
      ]
     },
     "metadata": {
      "needs_background": "light"
     },
     "output_type": "display_data"
    }
   ],
   "source": [
    "df.revenue.hist()"
   ]
  },
  {
   "cell_type": "code",
   "execution_count": 12,
   "id": "69c6ff7f",
   "metadata": {},
   "outputs": [
    {
     "data": {
      "text/html": [
       "<div>\n",
       "<style scoped>\n",
       "    .dataframe tbody tr th:only-of-type {\n",
       "        vertical-align: middle;\n",
       "    }\n",
       "\n",
       "    .dataframe tbody tr th {\n",
       "        vertical-align: top;\n",
       "    }\n",
       "\n",
       "    .dataframe thead th {\n",
       "        text-align: right;\n",
       "    }\n",
       "</style>\n",
       "<table border=\"1\" class=\"dataframe\">\n",
       "  <thead>\n",
       "    <tr style=\"text-align: right;\">\n",
       "      <th></th>\n",
       "      <th>id</th>\n",
       "      <th>imdb_id</th>\n",
       "      <th>popularity</th>\n",
       "      <th>budget</th>\n",
       "      <th>revenue</th>\n",
       "      <th>original_title</th>\n",
       "      <th>cast</th>\n",
       "      <th>homepage</th>\n",
       "      <th>director</th>\n",
       "      <th>tagline</th>\n",
       "      <th>...</th>\n",
       "      <th>runtime</th>\n",
       "      <th>genres</th>\n",
       "      <th>production_companies</th>\n",
       "      <th>release_date</th>\n",
       "      <th>vote_count</th>\n",
       "      <th>vote_average</th>\n",
       "      <th>release_year</th>\n",
       "      <th>budget_adj</th>\n",
       "      <th>revenue_adj</th>\n",
       "      <th>decade</th>\n",
       "    </tr>\n",
       "  </thead>\n",
       "  <tbody>\n",
       "    <tr>\n",
       "      <th>0</th>\n",
       "      <td>131634</td>\n",
       "      <td>tt1951266</td>\n",
       "      <td>5.476958</td>\n",
       "      <td>160000000</td>\n",
       "      <td>650523427</td>\n",
       "      <td>The Hunger Games: Mockingjay - Part 2</td>\n",
       "      <td>Jennifer Lawrence|Josh Hutcherson|Liam Hemswor...</td>\n",
       "      <td>http://www.thehungergames.movie/</td>\n",
       "      <td>Francis Lawrence</td>\n",
       "      <td>The fire will burn forever.</td>\n",
       "      <td>...</td>\n",
       "      <td>136</td>\n",
       "      <td>War|Adventure|Science Fiction</td>\n",
       "      <td>Studio Babelsberg|StudioCanal|Lionsgate|Walt D...</td>\n",
       "      <td>2015-11-18 00:00:00</td>\n",
       "      <td>2380</td>\n",
       "      <td>6.5</td>\n",
       "      <td>2015</td>\n",
       "      <td>1.471999e+08</td>\n",
       "      <td>598481289.5</td>\n",
       "      <td>2010s</td>\n",
       "    </tr>\n",
       "    <tr>\n",
       "      <th>1</th>\n",
       "      <td>158852</td>\n",
       "      <td>tt1964418</td>\n",
       "      <td>5.462138</td>\n",
       "      <td>190000000</td>\n",
       "      <td>209035668</td>\n",
       "      <td>Tomorrowland</td>\n",
       "      <td>Britt Robertson|George Clooney|Raffey Cassidy|...</td>\n",
       "      <td>http://movies.disney.com/tomorrowland</td>\n",
       "      <td>Brad Bird</td>\n",
       "      <td>Imagine a world where nothing is impossible.</td>\n",
       "      <td>...</td>\n",
       "      <td>130</td>\n",
       "      <td>Action|Family|Science Fiction|Adventure|Mystery</td>\n",
       "      <td>Walt Disney Pictures|Babieka|A113</td>\n",
       "      <td>2015-05-19 00:00:00</td>\n",
       "      <td>1899</td>\n",
       "      <td>6.2</td>\n",
       "      <td>2015</td>\n",
       "      <td>1.747999e+08</td>\n",
       "      <td>192312729.9</td>\n",
       "      <td>2010s</td>\n",
       "    </tr>\n",
       "    <tr>\n",
       "      <th>3</th>\n",
       "      <td>254128</td>\n",
       "      <td>tt2126355</td>\n",
       "      <td>4.907832</td>\n",
       "      <td>110000000</td>\n",
       "      <td>470490832</td>\n",
       "      <td>San Andreas</td>\n",
       "      <td>Dwayne Johnson|Alexandra Daddario|Carla Gugino...</td>\n",
       "      <td>http://www.sanandreasmovie.com/</td>\n",
       "      <td>Brad Peyton</td>\n",
       "      <td>A rescue pilot survived an earthquake, this is...</td>\n",
       "      <td>...</td>\n",
       "      <td>114</td>\n",
       "      <td>Action|Drama|Thriller</td>\n",
       "      <td>New Line Cinema|Village Roadshow Pictures|Warn...</td>\n",
       "      <td>2015-05-27 00:00:00</td>\n",
       "      <td>2060</td>\n",
       "      <td>6.1</td>\n",
       "      <td>2015</td>\n",
       "      <td>1.012000e+08</td>\n",
       "      <td>432851375.0</td>\n",
       "      <td>2010s</td>\n",
       "    </tr>\n",
       "    <tr>\n",
       "      <th>4</th>\n",
       "      <td>216015</td>\n",
       "      <td>tt2322441</td>\n",
       "      <td>4.710402</td>\n",
       "      <td>40000000</td>\n",
       "      <td>569651467</td>\n",
       "      <td>Fifty Shades of Grey</td>\n",
       "      <td>Dakota Johnson|Jamie Dornan|Jennifer Ehle|Eloi...</td>\n",
       "      <td>https://www.facebook.com/fiftyshadesofgreymovie</td>\n",
       "      <td>Sam Taylor-Johnson</td>\n",
       "      <td>Are you curious?</td>\n",
       "      <td>...</td>\n",
       "      <td>125</td>\n",
       "      <td>Drama|Romance</td>\n",
       "      <td>Focus Features|Trigger Street Productions|Mich...</td>\n",
       "      <td>2015-02-11 00:00:00</td>\n",
       "      <td>1865</td>\n",
       "      <td>5.3</td>\n",
       "      <td>2015</td>\n",
       "      <td>3.679998e+07</td>\n",
       "      <td>524079119.0</td>\n",
       "      <td>2010s</td>\n",
       "    </tr>\n",
       "    <tr>\n",
       "      <th>5</th>\n",
       "      <td>318846</td>\n",
       "      <td>tt1596363</td>\n",
       "      <td>4.648046</td>\n",
       "      <td>28000000</td>\n",
       "      <td>133346506</td>\n",
       "      <td>The Big Short</td>\n",
       "      <td>Christian Bale|Steve Carell|Ryan Gosling|Brad ...</td>\n",
       "      <td>http://www.thebigshortmovie.com/</td>\n",
       "      <td>Adam McKay</td>\n",
       "      <td>This is a true story.</td>\n",
       "      <td>...</td>\n",
       "      <td>130</td>\n",
       "      <td>Comedy|Drama</td>\n",
       "      <td>Paramount Pictures|Plan B Entertainment|Regenc...</td>\n",
       "      <td>2015-12-11 00:00:00</td>\n",
       "      <td>1545</td>\n",
       "      <td>7.3</td>\n",
       "      <td>2015</td>\n",
       "      <td>2.575999e+07</td>\n",
       "      <td>122678731.5</td>\n",
       "      <td>2010s</td>\n",
       "    </tr>\n",
       "  </tbody>\n",
       "</table>\n",
       "<p>5 rows × 22 columns</p>\n",
       "</div>"
      ],
      "text/plain": [
       "       id    imdb_id  popularity     budget    revenue  \\\n",
       "0  131634  tt1951266    5.476958  160000000  650523427   \n",
       "1  158852  tt1964418    5.462138  190000000  209035668   \n",
       "3  254128  tt2126355    4.907832  110000000  470490832   \n",
       "4  216015  tt2322441    4.710402   40000000  569651467   \n",
       "5  318846  tt1596363    4.648046   28000000  133346506   \n",
       "\n",
       "                          original_title  \\\n",
       "0  The Hunger Games: Mockingjay - Part 2   \n",
       "1                           Tomorrowland   \n",
       "3                            San Andreas   \n",
       "4                   Fifty Shades of Grey   \n",
       "5                          The Big Short   \n",
       "\n",
       "                                                cast  \\\n",
       "0  Jennifer Lawrence|Josh Hutcherson|Liam Hemswor...   \n",
       "1  Britt Robertson|George Clooney|Raffey Cassidy|...   \n",
       "3  Dwayne Johnson|Alexandra Daddario|Carla Gugino...   \n",
       "4  Dakota Johnson|Jamie Dornan|Jennifer Ehle|Eloi...   \n",
       "5  Christian Bale|Steve Carell|Ryan Gosling|Brad ...   \n",
       "\n",
       "                                          homepage            director  \\\n",
       "0                 http://www.thehungergames.movie/    Francis Lawrence   \n",
       "1            http://movies.disney.com/tomorrowland           Brad Bird   \n",
       "3                  http://www.sanandreasmovie.com/         Brad Peyton   \n",
       "4  https://www.facebook.com/fiftyshadesofgreymovie  Sam Taylor-Johnson   \n",
       "5                 http://www.thebigshortmovie.com/          Adam McKay   \n",
       "\n",
       "                                             tagline  ... runtime  \\\n",
       "0                        The fire will burn forever.  ...     136   \n",
       "1       Imagine a world where nothing is impossible.  ...     130   \n",
       "3  A rescue pilot survived an earthquake, this is...  ...     114   \n",
       "4                                   Are you curious?  ...     125   \n",
       "5                              This is a true story.  ...     130   \n",
       "\n",
       "                                            genres  \\\n",
       "0                    War|Adventure|Science Fiction   \n",
       "1  Action|Family|Science Fiction|Adventure|Mystery   \n",
       "3                            Action|Drama|Thriller   \n",
       "4                                    Drama|Romance   \n",
       "5                                     Comedy|Drama   \n",
       "\n",
       "                                production_companies         release_date  \\\n",
       "0  Studio Babelsberg|StudioCanal|Lionsgate|Walt D...  2015-11-18 00:00:00   \n",
       "1                  Walt Disney Pictures|Babieka|A113  2015-05-19 00:00:00   \n",
       "3  New Line Cinema|Village Roadshow Pictures|Warn...  2015-05-27 00:00:00   \n",
       "4  Focus Features|Trigger Street Productions|Mich...  2015-02-11 00:00:00   \n",
       "5  Paramount Pictures|Plan B Entertainment|Regenc...  2015-12-11 00:00:00   \n",
       "\n",
       "  vote_count vote_average  release_year    budget_adj  revenue_adj  decade  \n",
       "0       2380          6.5          2015  1.471999e+08  598481289.5   2010s  \n",
       "1       1899          6.2          2015  1.747999e+08  192312729.9   2010s  \n",
       "3       2060          6.1          2015  1.012000e+08  432851375.0   2010s  \n",
       "4       1865          5.3          2015  3.679998e+07  524079119.0   2010s  \n",
       "5       1545          7.3          2015  2.575999e+07  122678731.5   2010s  \n",
       "\n",
       "[5 rows x 22 columns]"
      ]
     },
     "execution_count": 12,
     "metadata": {},
     "output_type": "execute_result"
    }
   ],
   "source": [
    "bin_edges = [1960, 1970, 1980, 1990, 2000, 2010, 2015]\n",
    "bin_names = ['1960s', '1970s', '1980s', '1990s', '2000s', '2010s']\n",
    "df['decade'] = pd.cut(df['release_year'], bin_edges, labels=bin_names)\n",
    "df.head()"
   ]
  },
  {
   "cell_type": "code",
   "execution_count": 13,
   "id": "3cf928df",
   "metadata": {},
   "outputs": [
    {
     "data": {
      "image/png": "[encoded data removed]",
      "text/plain": [
       "<Figure size 432x288 with 1 Axes>"
      ]
     },
     "metadata": {
      "needs_background": "light"
     },
     "output_type": "display_data"
    }
   ],
   "source": [
    "rev_dis = df.groupby('decade').revenue.mean()\n",
    "\n",
    "plt.bar(rev_dis.index, rev_dis.values)\n",
    "plt.title('The comparison of revenue among decades')\n",
    "plt.xlabel('Decade')\n",
    "plt.ylabel('Revenue')\n",
    "\n",
    "plt.show()"
   ]
  },
  {
   "cell_type": "code",
   "execution_count": 18,
   "id": "8d110c0e",
   "metadata": {},
   "outputs": [
    {
     "name": "stdout",
     "output_type": "stream",
     "text": [
      "release_year\n",
      "2010    5\n",
      "2011    5\n",
      "2012    6\n",
      "2014    6\n",
      "2015    5\n",
      "Name: id, dtype: int64\n"
     ]
    },
    {
     "data": {
      "image/png": "[encoded data removed]",
      "text/plain": [
       "<Figure size 720x360 with 1 Axes>"
      ]
     },
     "metadata": {},
     "output_type": "display_data"
    }
   ],
   "source": [
    "data=df.groupby('release_year').count()['id']\n",
    "print(data.tail())\n",
    "df.groupby('release_year').count()['id'].plot(xticks = np.arange(1960,2016,5))\n",
    "sns.set(rc={'figure.figsize':(10,5)})\n",
    "plt.title(\"Number of movies realised per year\",fontsize = 12)\n",
    "plt.xlabel('Release year',fontsize = 13)\n",
    "plt.ylabel('Number Of Movies',fontsize = 13)\n",
    "sns.set_style(\"whitegrid\")"
   ]
  },
  {
   "cell_type": "code",
   "execution_count": 19,
   "id": "d8eecc1f",
   "metadata": {},
   "outputs": [
    {
     "data": {
      "text/plain": [
       "count    1.500000e+01\n",
       "mean     8.375667e+08\n",
       "std      1.014920e+08\n",
       "min      6.656923e+08\n",
       "25%      7.417215e+08\n",
       "50%      8.646260e+08\n",
       "75%      9.253025e+08\n",
       "max      9.764756e+08\n",
       "Name: revenue, dtype: float64"
      ]
     },
     "execution_count": 19,
     "metadata": {},
     "output_type": "execute_result"
    }
   ],
   "source": [
    "high_revenue = df.revenue.quantile(.75)\n",
    "high_rev_df = df[df.revenue > high_revenue]\n",
    "high_rev_df.revenue.describe()"
   ]
  },
  {
   "cell_type": "code",
   "execution_count": 20,
   "id": "2f340ff9",
   "metadata": {},
   "outputs": [
    {
     "data": {
      "image/png": "[encoded data removed]",
      "text/plain": [
       "<Figure size 720x360 with 1 Axes>"
      ]
     },
     "metadata": {},
     "output_type": "display_data"
    }
   ],
   "source": [
    "plt.scatter(x=high_rev_df.popularity, y=high_rev_df.revenue)\n",
    "plt.title('The correlation between Popularity and Revenue')\n",
    "plt.xlabel('Popularity')\n",
    "plt.ylabel('Revenue')\n",
    "\n",
    "plt.show()"
   ]
  },
  {
   "cell_type": "code",
   "execution_count": 21,
   "id": "4935055d",
   "metadata": {},
   "outputs": [
    {
     "data": {
      "text/html": [
       "<div>\n",
       "<style scoped>\n",
       "    .dataframe tbody tr th:only-of-type {\n",
       "        vertical-align: middle;\n",
       "    }\n",
       "\n",
       "    .dataframe tbody tr th {\n",
       "        vertical-align: top;\n",
       "    }\n",
       "\n",
       "    .dataframe thead th {\n",
       "        text-align: right;\n",
       "    }\n",
       "</style>\n",
       "<table border=\"1\" class=\"dataframe\">\n",
       "  <thead>\n",
       "    <tr style=\"text-align: right;\">\n",
       "      <th></th>\n",
       "      <th>popularity</th>\n",
       "      <th>revenue</th>\n",
       "    </tr>\n",
       "  </thead>\n",
       "  <tbody>\n",
       "    <tr>\n",
       "      <th>popularity</th>\n",
       "      <td>1.000000</td>\n",
       "      <td>0.122176</td>\n",
       "    </tr>\n",
       "    <tr>\n",
       "      <th>revenue</th>\n",
       "      <td>0.122176</td>\n",
       "      <td>1.000000</td>\n",
       "    </tr>\n",
       "  </tbody>\n",
       "</table>\n",
       "</div>"
      ],
      "text/plain": [
       "            popularity   revenue\n",
       "popularity    1.000000  0.122176\n",
       "revenue       0.122176  1.000000"
      ]
     },
     "execution_count": 21,
     "metadata": {},
     "output_type": "execute_result"
    }
   ],
   "source": [
    "high_rev_df[['popularity', 'revenue']].corr()"
   ]
  },
  {
   "cell_type": "code",
   "execution_count": 22,
   "id": "afe2fc48",
   "metadata": {},
   "outputs": [
    {
     "data": {
      "image/png": "[encoded data removed]",
      "text/plain": [
       "<Figure size 720x360 with 1 Axes>"
      ]
     },
     "metadata": {},
     "output_type": "display_data"
    }
   ],
   "source": [
    "plt.scatter(x=high_rev_df.vote_average, y=high_rev_df.revenue)\n",
    "plt.title('The correlation between Average Voting and Revenue')\n",
    "plt.xlabel('Average Voting')\n",
    "plt.ylabel('Revenue')\n",
    "\n",
    "plt.show()"
   ]
  },
  {
   "cell_type": "code",
   "execution_count": 23,
   "id": "a8f7c1ea",
   "metadata": {},
   "outputs": [
    {
     "data": {
      "text/html": [
       "<div>\n",
       "<style scoped>\n",
       "    .dataframe tbody tr th:only-of-type {\n",
       "        vertical-align: middle;\n",
       "    }\n",
       "\n",
       "    .dataframe tbody tr th {\n",
       "        vertical-align: top;\n",
       "    }\n",
       "\n",
       "    .dataframe thead th {\n",
       "        text-align: right;\n",
       "    }\n",
       "</style>\n",
       "<table border=\"1\" class=\"dataframe\">\n",
       "  <thead>\n",
       "    <tr style=\"text-align: right;\">\n",
       "      <th></th>\n",
       "      <th>vote_average</th>\n",
       "      <th>revenue</th>\n",
       "    </tr>\n",
       "  </thead>\n",
       "  <tbody>\n",
       "    <tr>\n",
       "      <th>vote_average</th>\n",
       "      <td>1.000000</td>\n",
       "      <td>0.244016</td>\n",
       "    </tr>\n",
       "    <tr>\n",
       "      <th>revenue</th>\n",
       "      <td>0.244016</td>\n",
       "      <td>1.000000</td>\n",
       "    </tr>\n",
       "  </tbody>\n",
       "</table>\n",
       "</div>"
      ],
      "text/plain": [
       "              vote_average   revenue\n",
       "vote_average      1.000000  0.244016\n",
       "revenue           0.244016  1.000000"
      ]
     },
     "execution_count": 23,
     "metadata": {},
     "output_type": "execute_result"
    }
   ],
   "source": [
    "high_rev_df[['vote_average', 'revenue']].corr()"
   ]
  },
  {
   "cell_type": "code",
   "execution_count": 24,
   "id": "4456a2b5",
   "metadata": {},
   "outputs": [
    {
     "data": {
      "image/png": "[encoded data removed]",
      "text/plain": [
       "<Figure size 720x360 with 1 Axes>"
      ]
     },
     "metadata": {},
     "output_type": "display_data"
    }
   ],
   "source": [
    "plt.scatter(x=high_rev_df.budget, y=high_rev_df.revenue)\n",
    "plt.title('The correlation between Budget and Revenue')\n",
    "plt.xlabel('Budget')\n",
    "plt.ylabel('Revenue')\n",
    "\n",
    "plt.show()"
   ]
  },
  {
   "cell_type": "code",
   "execution_count": 25,
   "id": "ad179733",
   "metadata": {},
   "outputs": [
    {
     "data": {
      "text/html": [
       "<div>\n",
       "<style scoped>\n",
       "    .dataframe tbody tr th:only-of-type {\n",
       "        vertical-align: middle;\n",
       "    }\n",
       "\n",
       "    .dataframe tbody tr th {\n",
       "        vertical-align: top;\n",
       "    }\n",
       "\n",
       "    .dataframe thead th {\n",
       "        text-align: right;\n",
       "    }\n",
       "</style>\n",
       "<table border=\"1\" class=\"dataframe\">\n",
       "  <thead>\n",
       "    <tr style=\"text-align: right;\">\n",
       "      <th></th>\n",
       "      <th>budget</th>\n",
       "      <th>revenue</th>\n",
       "    </tr>\n",
       "  </thead>\n",
       "  <tbody>\n",
       "    <tr>\n",
       "      <th>budget</th>\n",
       "      <td>1.000000</td>\n",
       "      <td>0.140619</td>\n",
       "    </tr>\n",
       "    <tr>\n",
       "      <th>revenue</th>\n",
       "      <td>0.140619</td>\n",
       "      <td>1.000000</td>\n",
       "    </tr>\n",
       "  </tbody>\n",
       "</table>\n",
       "</div>"
      ],
      "text/plain": [
       "           budget   revenue\n",
       "budget   1.000000  0.140619\n",
       "revenue  0.140619  1.000000"
      ]
     },
     "execution_count": 25,
     "metadata": {},
     "output_type": "execute_result"
    }
   ],
   "source": [
    "high_rev_df[['budget', 'revenue']].corr()"
   ]
  },
  {
   "cell_type": "code",
   "execution_count": 26,
   "id": "62146c37",
   "metadata": {},
   "outputs": [
    {
     "data": {
      "text/html": [
       "<div>\n",
       "<style scoped>\n",
       "    .dataframe tbody tr th:only-of-type {\n",
       "        vertical-align: middle;\n",
       "    }\n",
       "\n",
       "    .dataframe tbody tr th {\n",
       "        vertical-align: top;\n",
       "    }\n",
       "\n",
       "    .dataframe thead th {\n",
       "        text-align: right;\n",
       "    }\n",
       "</style>\n",
       "<table border=\"1\" class=\"dataframe\">\n",
       "  <thead>\n",
       "    <tr style=\"text-align: right;\">\n",
       "      <th></th>\n",
       "      <th>release_year</th>\n",
       "      <th>genres</th>\n",
       "      <th>popularity</th>\n",
       "    </tr>\n",
       "  </thead>\n",
       "  <tbody>\n",
       "    <tr>\n",
       "      <th>0</th>\n",
       "      <td>2015</td>\n",
       "      <td>War|Adventure|Science Fiction</td>\n",
       "      <td>5.476958</td>\n",
       "    </tr>\n",
       "    <tr>\n",
       "      <th>1</th>\n",
       "      <td>2015</td>\n",
       "      <td>Action|Family|Science Fiction|Adventure|Mystery</td>\n",
       "      <td>5.462138</td>\n",
       "    </tr>\n",
       "    <tr>\n",
       "      <th>3</th>\n",
       "      <td>2015</td>\n",
       "      <td>Action|Drama|Thriller</td>\n",
       "      <td>4.907832</td>\n",
       "    </tr>\n",
       "    <tr>\n",
       "      <th>4</th>\n",
       "      <td>2015</td>\n",
       "      <td>Drama|Romance</td>\n",
       "      <td>4.710402</td>\n",
       "    </tr>\n",
       "    <tr>\n",
       "      <th>5</th>\n",
       "      <td>2015</td>\n",
       "      <td>Comedy|Drama</td>\n",
       "      <td>4.648046</td>\n",
       "    </tr>\n",
       "  </tbody>\n",
       "</table>\n",
       "</div>"
      ],
      "text/plain": [
       "   release_year                                           genres  popularity\n",
       "0          2015                    War|Adventure|Science Fiction    5.476958\n",
       "1          2015  Action|Family|Science Fiction|Adventure|Mystery    5.462138\n",
       "3          2015                            Action|Drama|Thriller    4.907832\n",
       "4          2015                                    Drama|Romance    4.710402\n",
       "5          2015                                     Comedy|Drama    4.648046"
      ]
     },
     "execution_count": 26,
     "metadata": {},
     "output_type": "execute_result"
    }
   ],
   "source": [
    "df_genres = df[['release_year', 'genres', 'popularity']]\n",
    "df_genres.head()"
   ]
  },
  {
   "cell_type": "code",
   "execution_count": 27,
   "id": "4b865687",
   "metadata": {},
   "outputs": [
    {
     "data": {
      "text/html": [
       "<div>\n",
       "<style scoped>\n",
       "    .dataframe tbody tr th:only-of-type {\n",
       "        vertical-align: middle;\n",
       "    }\n",
       "\n",
       "    .dataframe tbody tr th {\n",
       "        vertical-align: top;\n",
       "    }\n",
       "\n",
       "    .dataframe thead th {\n",
       "        text-align: right;\n",
       "    }\n",
       "</style>\n",
       "<table border=\"1\" class=\"dataframe\">\n",
       "  <thead>\n",
       "    <tr style=\"text-align: right;\">\n",
       "      <th></th>\n",
       "      <th>release_year</th>\n",
       "      <th>genres</th>\n",
       "      <th>popularity</th>\n",
       "    </tr>\n",
       "  </thead>\n",
       "  <tbody>\n",
       "    <tr>\n",
       "      <th>0</th>\n",
       "      <td>2015</td>\n",
       "      <td>War</td>\n",
       "      <td>5.476958</td>\n",
       "    </tr>\n",
       "    <tr>\n",
       "      <th>0</th>\n",
       "      <td>2015</td>\n",
       "      <td>Adventure</td>\n",
       "      <td>5.476958</td>\n",
       "    </tr>\n",
       "    <tr>\n",
       "      <th>0</th>\n",
       "      <td>2015</td>\n",
       "      <td>Science Fiction</td>\n",
       "      <td>5.476958</td>\n",
       "    </tr>\n",
       "    <tr>\n",
       "      <th>1</th>\n",
       "      <td>2015</td>\n",
       "      <td>Action</td>\n",
       "      <td>5.462138</td>\n",
       "    </tr>\n",
       "    <tr>\n",
       "      <th>1</th>\n",
       "      <td>2015</td>\n",
       "      <td>Family</td>\n",
       "      <td>5.462138</td>\n",
       "    </tr>\n",
       "  </tbody>\n",
       "</table>\n",
       "</div>"
      ],
      "text/plain": [
       "   release_year           genres  popularity\n",
       "0          2015              War    5.476958\n",
       "0          2015        Adventure    5.476958\n",
       "0          2015  Science Fiction    5.476958\n",
       "1          2015           Action    5.462138\n",
       "1          2015           Family    5.462138"
      ]
     },
     "execution_count": 27,
     "metadata": {},
     "output_type": "execute_result"
    }
   ],
   "source": [
    "from itertools import chain\n",
    "\n",
    "def chainer(s):\n",
    "    return list(chain.from_iterable(s.str.split('|')))\n",
    "lens = df_genres['genres'].str.split('|').map(len)\n",
    "\n",
    "df_genres = pd.DataFrame({'release_year': np.repeat(df_genres['release_year'], lens),                       \n",
    "                          'genres': chainer(df_genres['genres']),\n",
    "                          'popularity': np.repeat(df_genres['popularity'], lens)})\n",
    "\n",
    "df_genres.head()"
   ]
  },
  {
   "cell_type": "code",
   "execution_count": 28,
   "id": "6aee8c59",
   "metadata": {},
   "outputs": [
    {
     "data": {
      "text/html": [
       "<div>\n",
       "<style scoped>\n",
       "    .dataframe tbody tr th:only-of-type {\n",
       "        vertical-align: middle;\n",
       "    }\n",
       "\n",
       "    .dataframe tbody tr th {\n",
       "        vertical-align: top;\n",
       "    }\n",
       "\n",
       "    .dataframe thead th {\n",
       "        text-align: right;\n",
       "    }\n",
       "</style>\n",
       "<table border=\"1\" class=\"dataframe\">\n",
       "  <thead>\n",
       "    <tr style=\"text-align: right;\">\n",
       "      <th></th>\n",
       "      <th>release_year</th>\n",
       "      <th>genres</th>\n",
       "      <th>popularity</th>\n",
       "    </tr>\n",
       "  </thead>\n",
       "  <tbody>\n",
       "    <tr>\n",
       "      <th>0</th>\n",
       "      <td>1977</td>\n",
       "      <td>Action</td>\n",
       "      <td>2.379469</td>\n",
       "    </tr>\n",
       "    <tr>\n",
       "      <th>1</th>\n",
       "      <td>1977</td>\n",
       "      <td>Adventure</td>\n",
       "      <td>2.379469</td>\n",
       "    </tr>\n",
       "    <tr>\n",
       "      <th>2</th>\n",
       "      <td>1977</td>\n",
       "      <td>Thriller</td>\n",
       "      <td>2.379469</td>\n",
       "    </tr>\n",
       "    <tr>\n",
       "      <th>3</th>\n",
       "      <td>1997</td>\n",
       "      <td>Comedy</td>\n",
       "      <td>1.212565</td>\n",
       "    </tr>\n",
       "    <tr>\n",
       "      <th>4</th>\n",
       "      <td>1997</td>\n",
       "      <td>Drama</td>\n",
       "      <td>1.212565</td>\n",
       "    </tr>\n",
       "  </tbody>\n",
       "</table>\n",
       "</div>"
      ],
      "text/plain": [
       "   release_year     genres  popularity\n",
       "0          1977     Action    2.379469\n",
       "1          1977  Adventure    2.379469\n",
       "2          1977   Thriller    2.379469\n",
       "3          1997     Comedy    1.212565\n",
       "4          1997      Drama    1.212565"
      ]
     },
     "execution_count": 28,
     "metadata": {},
     "output_type": "execute_result"
    }
   ],
   "source": [
    "def func(group):\n",
    "    return group.loc[group['popularity'] == group['popularity'].max()]\n",
    "\n",
    "df_pop = df_genres.groupby(['release_year', 'genres'], as_index=False).mean()\n",
    "\n",
    "df_most_pop = df_pop.groupby('release_year', as_index=False).apply(func).reset_index(drop=True)\n",
    "df_most_pop.head()"
   ]
  },
  {
   "cell_type": "code",
   "execution_count": 29,
   "id": "b27f2aa5",
   "metadata": {},
   "outputs": [
    {
     "data": {
      "image/png": "[encoded data removed]",
      "text/plain": [
       "<Figure size 720x360 with 1 Axes>"
      ]
     },
     "metadata": {},
     "output_type": "display_data"
    }
   ],
   "source": [
    "plt.scatter(df_most_pop.release_year, df_most_pop.genres)\n",
    "plt.title('The change of the most popular genre over the year')\n",
    "plt.xlabel('Year')\n",
    "plt.ylabel('Genre')\n",
    "\n",
    "plt.show()"
   ]
  },
  {
   "cell_type": "code",
   "execution_count": 30,
   "id": "cc1b5206",
   "metadata": {},
   "outputs": [
    {
     "data": {
      "image/png": "[encoded data removed]",
      "text/plain": [
       "<Figure size 720x360 with 1 Axes>"
      ]
     },
     "metadata": {},
     "output_type": "display_data"
    }
   ],
   "source": [
    "sizes = df_most_pop.genres.value_counts().values\n",
    "labels = df_most_pop.genres.value_counts().index\n",
    "\n",
    "fig1, ax1 = plt.subplots()\n",
    "ax1.pie(sizes, labels=labels, autopct='%1.1f%%')\n",
    "ax1.axis('equal')\n",
    "plt.title('The percentage of each genre')\n",
    "\n",
    "plt.show()"
   ]
  },
  {
   "cell_type": "code",
   "execution_count": 32,
   "id": "4871b0b9",
   "metadata": {},
   "outputs": [],
   "source": [
    "df['Profit'] = df['revenue'] - df['budget']"
   ]
  },
  {
   "cell_type": "code",
   "execution_count": 34,
   "id": "a55b9d50",
   "metadata": {},
   "outputs": [],
   "source": [
    "info = pd.DataFrame(df['Profit'].sort_values(ascending = False))\n",
    "info['original_title'] = df['original_title']\n",
    "data = list(map(str,(info['original_title'])))\n",
    "x = list(data[:10])\n",
    "y = list(info['Profit'][:10])"
   ]
  },
  {
   "cell_type": "code",
   "execution_count": 36,
   "id": "f51a944a",
   "metadata": {},
   "outputs": [
    {
     "data": {
      "image/png": "[encoded data removed]",
      "text/plain": [
       "<Figure size 720x360 with 1 Axes>"
      ]
     },
     "metadata": {},
     "output_type": "display_data"
    }
   ],
   "source": [
    "ax = sns.pointplot(x=y,y=x)\n",
    "sns.set(rc={'figure.figsize':(10,5)})\n",
    "ax.set_title(\"Top 10 Profitable Movies\",fontsize = 15)\n",
    "ax.set_xlabel(\"Profit\",fontsize = 13)\n",
    "sns.set_style(\"darkgrid\")\n"
   ]
  },
  {
   "cell_type": "code",
   "execution_count": 37,
   "id": "1a8cf41a",
   "metadata": {},
   "outputs": [
    {
     "data": {
      "image/png": "[encoded data removed]",
      "text/plain": [
       "<Figure size 936x360 with 1 Axes>"
      ]
     },
     "metadata": {},
     "output_type": "display_data"
    }
   ],
   "source": [
    "df.groupby('runtime')['popularity'].mean().plot(figsize = (13,5),xticks=np.arange(0,1000,100))\n",
    "\n",
    "#setup the title of the figure\n",
    "plt.title(\"Runtime Vs Popularity\",fontsize = 14)\n",
    "\n",
    "#setup the x-label and y-label of the plot.\n",
    "plt.xlabel('Runtime',fontsize = 13)\n",
    "plt.ylabel('Average Popularity',fontsize = 13)\n",
    "\n",
    "#setup the figure size.\n",
    "sns.set(rc={'figure.figsize':(10,5)})\n",
    "sns.set_style(\"whitegrid\")"
   ]
  },
  {
   "cell_type": "code",
   "execution_count": null,
   "id": "7cb2c063",
   "metadata": {},
   "outputs": [],
   "source": []
  }
 ],
 "metadata": {
  "kernelspec": {
   "display_name": "Python 3 (ipykernel)",
   "language": "python",
   "name": "python3"
  },
  "language_info": {
   "codemirror_mode": {
    "name": "ipython",
    "version": 3
   },
   "file_extension": ".py",
   "mimetype": "text/x-python",
   "name": "python",
   "nbconvert_exporter": "python",
   "pygments_lexer": "ipython3",
   "version": "3.9.7"
  }
 },
 "nbformat": 4,
 "nbformat_minor": 5
}
